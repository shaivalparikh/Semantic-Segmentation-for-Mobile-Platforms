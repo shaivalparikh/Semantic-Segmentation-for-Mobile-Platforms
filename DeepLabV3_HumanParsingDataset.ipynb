{
  "nbformat": 4,
  "nbformat_minor": 0,
  "metadata": {
    "colab": {
      "name": "DeepLabV3-HumanParsingDataset.ipynb",
      "provenance": [],
      "collapsed_sections": [],
      "machine_shape": "hm"
    },
    "kernelspec": {
      "name": "python3",
      "display_name": "Python 3"
    },
    "language_info": {
      "name": "python"
    },
    "accelerator": "GPU"
  },
  "cells": [
    {
      "cell_type": "code",
      "metadata": {
        "id": "vGc18yBi0Ep4"
      },
      "source": [
        "import os\n",
        "import cv2\n",
        "import numpy as np\n",
        "from glob import glob\n",
        "from scipy.io import loadmat\n",
        "import matplotlib.pyplot as plt\n",
        "\n",
        "import tensorflow as tf\n",
        "from tensorflow import keras\n",
        "from tensorflow.keras import layers\n",
        "from keras.models import Model"
      ],
      "execution_count": null,
      "outputs": []
    },
    {
      "cell_type": "code",
      "metadata": {
        "colab": {
          "base_uri": "https://localhost:8080/"
        },
        "id": "ZxmWtyYTVz-x",
        "outputId": "dd30fb2a-546a-488f-9fa2-0aa326efca52"
      },
      "source": [
        "!gdown https://drive.google.com/uc?id=1B9A9UCJYMwTL4oBEo4RZfbMZMaZhKJaz\n",
        "!unzip -q instance-level-human-parsing.zip"
      ],
      "execution_count": null,
      "outputs": [
        {
          "output_type": "stream",
          "name": "stdout",
          "text": [
            "Downloading...\n",
            "From: https://drive.google.com/uc?id=1B9A9UCJYMwTL4oBEo4RZfbMZMaZhKJaz\n",
            "To: /content/instance-level-human-parsing.zip\n",
            "100% 2.91G/2.91G [00:22<00:00, 128MB/s]\n"
          ]
        }
      ]
    },
    {
      "cell_type": "code",
      "metadata": {
        "colab": {
          "base_uri": "https://localhost:8080/"
        },
        "id": "ctbJpT5KEgnO",
        "outputId": "68002000-d461-4ec3-e6d8-d349f1fca1bc"
      },
      "source": [
        "from google.colab import drive\n",
        "drive.mount('/content/drive')"
      ],
      "execution_count": null,
      "outputs": [
        {
          "output_type": "stream",
          "name": "stdout",
          "text": [
            "Mounted at /content/drive\n"
          ]
        }
      ]
    },
    {
      "cell_type": "code",
      "metadata": {
        "colab": {
          "base_uri": "https://localhost:8080/"
        },
        "id": "SVcsv69NVmke",
        "outputId": "c03ae040-7a51-4cce-9e76-3b5bc4f6b75c"
      },
      "source": [
        "IMAGE_SIZE = 224\n",
        "BATCH_SIZE = 4\n",
        "NUM_CLASSES = 20\n",
        "DATA_DIR = \"./instance-level_human_parsing/instance-level_human_parsing/Training\" #\"/content/VOCdevkit\"\n",
        "NUM_TRAIN_IMAGES = 1000\n",
        "NUM_VAL_IMAGES = 50\n",
        "\n",
        "train_images = sorted(glob(os.path.join(DATA_DIR, \"Images/*\")))[:NUM_TRAIN_IMAGES]\n",
        "train_masks = sorted(glob(os.path.join(DATA_DIR, \"Category_ids/*\")))[:NUM_TRAIN_IMAGES]\n",
        "val_images = sorted(glob(os.path.join(DATA_DIR, \"Images/*\")))[\n",
        "    NUM_TRAIN_IMAGES : NUM_VAL_IMAGES + NUM_TRAIN_IMAGES\n",
        "]\n",
        "val_masks = sorted(glob(os.path.join(DATA_DIR, \"Category_ids/*\")))[\n",
        "    NUM_TRAIN_IMAGES : NUM_VAL_IMAGES + NUM_TRAIN_IMAGES\n",
        "]\n",
        "\n",
        "# with open('/content/VOCdevkit/VOC2012/ImageSets/Segmentation/train.txt') as f:\n",
        "#     train_lines = f.read().splitlines()\n",
        "\n",
        "# train_images = train_lines.copy()\n",
        "# train_masks = train_lines.copy()\n",
        "# for i in range(len(train_lines)):\n",
        "#     train_images[i] = os.path.join('/content/VOCdevkit/VOC2012/JPEGImages', train_lines[i] + '.jpg')\n",
        "#     train_masks[i] = os.path.join('/content/VOCdevkit/VOC2012/SegmentationClass', train_lines[i] + '.png')\n",
        "# print(train_images)\n",
        "# print(train_masks)\n",
        "\n",
        "\n",
        "# NUM_TRAIN_IMAGES = len(train_lines)\n",
        "\n",
        "# with open('/content/VOCdevkit/VOC2012/ImageSets/Segmentation/val.txt') as f:\n",
        "#     val_lines = f.read().splitlines()\n",
        "\n",
        "# val_images = val_lines.copy()\n",
        "# val_masks = val_lines.copy()\n",
        "# for i in range(len(val_lines)):\n",
        "#     val_images[i] = os.path.join('/content/VOCdevkit/VOC2012/JPEGImages', val_lines[i] + '.jpg')\n",
        "#     val_masks[i] = os.path.join('/content/VOCdevkit/VOC2012/SegmentationClass', val_lines[i] + '.png')\n",
        "\n",
        "# NUM_VAL_IMAGES = len(val_lines)\n",
        "\n",
        "def read_image(image_path, mask=False):\n",
        "    image = tf.io.read_file(image_path)\n",
        "    if mask:\n",
        "        image = tf.image.decode_png(image, channels=1)\n",
        "        image.set_shape([None, None, 1])\n",
        "        image = tf.image.resize(images=image, size=[IMAGE_SIZE, IMAGE_SIZE])\n",
        "    else:\n",
        "        image = tf.image.decode_jpeg(image, channels=3)\n",
        "        image.set_shape([None, None, 3])\n",
        "        image = tf.image.resize(images=image, size=[IMAGE_SIZE, IMAGE_SIZE])\n",
        "        image = image / 127.5 - 1\n",
        "    return image\n",
        "\n",
        "\n",
        "def load_data(image_list, mask_list):\n",
        "    image = read_image(image_list)\n",
        "    mask = read_image(mask_list, mask=True)\n",
        "    return image, mask\n",
        "\n",
        "\n",
        "def data_generator(image_list, mask_list):\n",
        "    dataset = tf.data.Dataset.from_tensor_slices((image_list, mask_list))\n",
        "    dataset = dataset.map(load_data, num_parallel_calls=tf.data.AUTOTUNE)\n",
        "    dataset = dataset.batch(BATCH_SIZE, drop_remainder=True)\n",
        "    return dataset\n",
        "\n",
        "\n",
        "train_dataset = data_generator(train_images, train_masks)\n",
        "val_dataset = data_generator(val_images, val_masks)\n",
        "\n",
        "print(\"Train Dataset:\", train_dataset)\n",
        "print(\"Val Dataset:\", val_dataset)\n"
      ],
      "execution_count": null,
      "outputs": [
        {
          "output_type": "stream",
          "name": "stdout",
          "text": [
            "Train Dataset: <BatchDataset shapes: ((4, 224, 224, 3), (4, 224, 224, 1)), types: (tf.float32, tf.float32)>\n",
            "Val Dataset: <BatchDataset shapes: ((4, 224, 224, 3), (4, 224, 224, 1)), types: (tf.float32, tf.float32)>\n"
          ]
        }
      ]
    },
    {
      "cell_type": "markdown",
      "metadata": {
        "id": "Gc787oCg3m9S"
      },
      "source": [
        "## Rough model for DeepLabV3\n"
      ]
    },
    {
      "cell_type": "code",
      "metadata": {
        "id": "QOBVmogw0K_L"
      },
      "source": [
        "def convolution_block(\n",
        "    block_input,\n",
        "    num_filters=256,\n",
        "    kernel_size=3,\n",
        "    dilation_rate=1,\n",
        "    padding=\"same\",\n",
        "    use_bias=False,):\n",
        "    x = layers.Conv2D(\n",
        "        num_filters,\n",
        "        kernel_size=kernel_size,\n",
        "        dilation_rate=dilation_rate,\n",
        "        padding=\"same\",\n",
        "        use_bias=use_bias,\n",
        "        kernel_initializer=keras.initializers.HeNormal(),\n",
        "    )(block_input)\n",
        "    x = layers.BatchNormalization()(x)\n",
        "    return tf.nn.relu(x)\n",
        "\n",
        "\n",
        "def DilatedSpatialPyramidPooling(dspp_input):\n",
        "    dims = dspp_input.shape\n",
        "    x = layers.AveragePooling2D(pool_size=(dims[-3], dims[-2]))(dspp_input)\n",
        "    x = convolution_block(x, kernel_size=1, use_bias=True)\n",
        "    out_pool = layers.UpSampling2D(\n",
        "        size=(dims[-3] // x.shape[1], dims[-2] // x.shape[2]), interpolation=\"bilinear\",\n",
        "    )(x)\n",
        "\n",
        "    out_1 = convolution_block(dspp_input, kernel_size=1, dilation_rate=1)\n",
        "    out_6 = convolution_block(dspp_input, kernel_size=3, dilation_rate=6)\n",
        "    out_12 = convolution_block(dspp_input, kernel_size=3, dilation_rate=12)\n",
        "    out_18 = convolution_block(dspp_input, kernel_size=3, dilation_rate=18)\n",
        "\n",
        "    x = layers.Concatenate(axis=-1)([out_pool, out_1, out_6, out_12, out_18])\n",
        "    output = convolution_block(x, kernel_size=1)\n",
        "    return output"
      ],
      "execution_count": null,
      "outputs": []
    },
    {
      "cell_type": "code",
      "metadata": {
        "id": "iUv93YqRRbAh"
      },
      "source": [
        "def DeeplabV3Plus_1(image_size, num_classes):\n",
        "    model_input = keras.Input(shape=(image_size, image_size, 3))\n",
        "    resnet50 = keras.applications.ResNet50(\n",
        "        weights=\"imagenet\", include_top=False, input_tensor=model_input\n",
        "    )\n",
        "    resnet50.summary()\n",
        "    x = resnet50.get_layer(\"conv4_block6_2_relu\").output\n",
        "    print(\"#########################################################\")\n",
        "    print(x.shape)\n",
        "    x = DilatedSpatialPyramidPooling(x)\n",
        "\n",
        "    input_a = layers.UpSampling2D(\n",
        "        size=(image_size // 4 // x.shape[1], image_size // 4 // x.shape[2]),\n",
        "        interpolation=\"bilinear\",\n",
        "    )(x)\n",
        "    \n",
        "    print(input_a.shape)\n",
        "    input_b = resnet50.get_layer(\"conv2_block3_2_relu\").output\n",
        "    print(\"#########################################################\")\n",
        "    print(input_b.shape)\n",
        "    input_b = convolution_block(input_b, num_filters=48, kernel_size=1)\n",
        "    print(\"#########################################################\")\n",
        "    print(input_b.shape)\n",
        "\n",
        "    x = layers.Concatenate(axis=-1)([input_a, input_b])\n",
        "    x = convolution_block(x)\n",
        "    x = convolution_block(x)\n",
        "    x = layers.UpSampling2D(\n",
        "        size=(image_size // x.shape[1], image_size // x.shape[2]),\n",
        "        interpolation=\"bilinear\",\n",
        "    )(x)\n",
        "    model_output = layers.Conv2D(num_classes, kernel_size=(1, 1), padding=\"same\")(x)\n",
        "    return keras.Model(inputs=model_input, outputs=model_output)\n",
        "\n",
        "\n",
        "model = DeeplabV3Plus_1(image_size=IMAGE_SIZE, num_classes=NUM_CLASSES)\n",
        "#model.summary()"
      ],
      "execution_count": null,
      "outputs": []
    },
    {
      "cell_type": "code",
      "metadata": {
        "id": "I93--lse29QO"
      },
      "source": [
        "# def DeeplabV3Plus(image_size, num_classes):\n",
        "#     model_input = keras.Input(shape=(image_size, image_size, 3))\n",
        "\n",
        "#     model = tf.keras.applications.mobilenet_v2.MobileNetV2(input_shape=None, alpha=1.0, include_top=False, weights='imagenet', \n",
        "#                                             input_tensor=model_input, pooling=None, classes=1000)\n",
        "    \n",
        "#     #MNetV3.summary()\n",
        "\n",
        "#     x = model.get_layer(\"block_6_expand_relu\").output\n",
        "#     print(x.shape)\n",
        "#     x = DilatedSpatialPyramidPooling(x)\n",
        "\n",
        "#     print(\"x\")\n",
        "#     print(x.shape)\n",
        "#     input_a = layers.UpSampling2D(\n",
        "#         size=(image_size // 4 // x.shape[1], image_size // 4 // x.shape[2]),\n",
        "#         interpolation=\"bilinear\",\n",
        "#     )(x)\n",
        "\n",
        "#     print(\"input_a\")\n",
        "#     print(input_a.shape)\n",
        "#     input_b = model.get_layer(\"block_3_expand_relu\").output\n",
        "#     input_b = convolution_block(input_b, num_filters=48, kernel_size=1)\n",
        "\n",
        "#     print(\"input_b\")\n",
        "#     print(input_b.shape)\n",
        "\n",
        "#     x = layers.Concatenate(axis=-1)([input_a, input_b])\n",
        "#     x = convolution_block(x)\n",
        "#     x = convolution_block(x)\n",
        "#     x = layers.UpSampling2D(\n",
        "#         size=(image_size // x.shape[1], image_size // x.shape[2]),\n",
        "#         interpolation=\"bilinear\",\n",
        "#     )(x)\n",
        "#     model_output = layers.Conv2D(num_classes, kernel_size=(1, 1), padding=\"same\")(x)\n",
        "#     return keras.Model(inputs=model_input, outputs=model_output)\n",
        "\n",
        "\n",
        "# model = DeeplabV3Plus(image_size=IMAGE_SIZE, num_classes=NUM_CLASSES)\n",
        "# model.summary()"
      ],
      "execution_count": null,
      "outputs": []
    },
    {
      "cell_type": "code",
      "metadata": {
        "colab": {
          "base_uri": "https://localhost:8080/"
        },
        "id": "zRKaG-oNRcKK",
        "outputId": "b5dfd158-ce46-4ff5-87fa-b0c223fe6162"
      },
      "source": [
        "loss = keras.losses.SparseCategoricalCrossentropy(from_logits=True)\n",
        "model.compile(\n",
        "    optimizer=keras.optimizers.Adam(learning_rate=0.1),\n",
        "    loss=loss,\n",
        "    metrics=[\"accuracy\"],\n",
        ")\n",
        "\n",
        "history = model.fit(train_dataset, validation_data=val_dataset, epochs=25)"
      ],
      "execution_count": null,
      "outputs": [
        {
          "output_type": "stream",
          "name": "stdout",
          "text": [
            "Epoch 1/25\n",
            "250/250 [==============================] - 24s 73ms/step - loss: 1.5640 - accuracy: 0.5639 - val_loss: 1.7747 - val_accuracy: 0.5091\n",
            "Epoch 2/25\n",
            "250/250 [==============================] - 17s 69ms/step - loss: 1.4083 - accuracy: 0.5734 - val_loss: 1.5869 - val_accuracy: 0.4981\n",
            "Epoch 3/25\n",
            "146/250 [================>.............] - ETA: 7s - loss: 1.3752 - accuracy: 0.5809"
          ]
        }
      ]
    },
    {
      "cell_type": "code",
      "metadata": {
        "colab": {
          "base_uri": "https://localhost:8080/"
        },
        "id": "2N-o94L8RJeI",
        "outputId": "9a535104-efc2-4219-8dc3-9610de12241d"
      },
      "source": [
        "# !wget http://host.robots.ox.ac.uk/pascal/VOC/voc2012/VOCtrainval_11-May-2012.tar "
      ],
      "execution_count": null,
      "outputs": [
        {
          "output_type": "stream",
          "name": "stdout",
          "text": [
            "--2021-11-01 15:17:38--  http://host.robots.ox.ac.uk/pascal/VOC/voc2012/VOCtrainval_11-May-2012.tar\n",
            "Resolving host.robots.ox.ac.uk (host.robots.ox.ac.uk)... 129.67.94.152\n",
            "Connecting to host.robots.ox.ac.uk (host.robots.ox.ac.uk)|129.67.94.152|:80... connected.\n",
            "HTTP request sent, awaiting response... 200 OK\n",
            "Length: 1999639040 (1.9G) [application/x-tar]\n",
            "Saving to: ‘VOCtrainval_11-May-2012.tar.1’\n",
            "\n",
            "VOCtrainval_11-May- 100%[===================>]   1.86G  31.7MB/s    in 60s     \n",
            "\n",
            "2021-11-01 15:18:38 (31.6 MB/s) - ‘VOCtrainval_11-May-2012.tar.1’ saved [1999639040/1999639040]\n",
            "\n"
          ]
        }
      ]
    },
    {
      "cell_type": "code",
      "metadata": {
        "id": "dQgeXnIIRaBR"
      },
      "source": [
        "# %%bash\n",
        "# tar -xvf /content/VOCtrainval_11-May-2012.tar.1"
      ],
      "execution_count": null,
      "outputs": []
    },
    {
      "cell_type": "code",
      "metadata": {
        "colab": {
          "base_uri": "https://localhost:8080/"
        },
        "id": "JMW3m6EHRzk7",
        "outputId": "5273ae3f-c0dc-4646-98fa-320ace1bf269"
      },
      "source": [
        "from google.colab import drive\n",
        "drive.mount('/content/drive')"
      ],
      "execution_count": null,
      "outputs": [
        {
          "output_type": "stream",
          "name": "stdout",
          "text": [
            "Mounted at /content/drive\n"
          ]
        }
      ]
    },
    {
      "cell_type": "code",
      "metadata": {
        "colab": {
          "base_uri": "https://localhost:8080/",
          "height": 1000
        },
        "id": "4eYhtM4yWaNi",
        "outputId": "e11b84af-7f7e-4613-8e5b-b094cf0690b9"
      },
      "source": [
        "plt.plot(history.history[\"loss\"])\n",
        "plt.title(\"Training Loss\")\n",
        "plt.ylabel(\"loss\")\n",
        "plt.xlabel(\"epoch\")\n",
        "plt.show()\n",
        "\n",
        "plt.plot(history.history[\"accuracy\"])\n",
        "plt.title(\"Training Accuracy\")\n",
        "plt.ylabel(\"accuracy\")\n",
        "plt.xlabel(\"epoch\")\n",
        "plt.show()\n",
        "\n",
        "plt.plot(history.history[\"val_loss\"])\n",
        "plt.title(\"Validation Loss\")\n",
        "plt.ylabel(\"val_loss\")\n",
        "plt.xlabel(\"epoch\")\n",
        "plt.show()\n",
        "\n",
        "plt.plot(history.history[\"val_accuracy\"])\n",
        "plt.title(\"Validation Accuracy\")\n",
        "plt.ylabel(\"val_accuracy\")\n",
        "plt.xlabel(\"epoch\")\n",
        "plt.show()"
      ],
      "execution_count": null,
      "outputs": [
        {
          "output_type": "display_data",
          "data": {
            "image/png": "[encoded data removed]",
            "text/plain": [
              "<Figure size 432x288 with 1 Axes>"
            ]
          },
          "metadata": {
            "needs_background": "light"
          }
        },
        {
          "output_type": "display_data",
          "data": {
            "image/png": "[encoded data removed]",
            "text/plain": [
              "<Figure size 432x288 with 1 Axes>"
            ]
          },
          "metadata": {
            "needs_background": "light"
          }
        },
        {
          "output_type": "display_data",
          "data": {
            "image/png": "[encoded data removed]",
            "text/plain": [
              "<Figure size 432x288 with 1 Axes>"
            ]
          },
          "metadata": {
            "needs_background": "light"
          }
        },
        {
          "output_type": "display_data",
          "data": {
            "image/png": "[encoded data removed]",
            "text/plain": [
              "<Figure size 432x288 with 1 Axes>"
            ]
          },
          "metadata": {
            "needs_background": "light"
          }
        }
      ]
    },
    {
      "cell_type": "code",
      "metadata": {
        "colab": {
          "base_uri": "https://localhost:8080/"
        },
        "id": "M_Yjada3f_Vj",
        "outputId": "5a130012-4c45-4beb-804b-058290a312b6"
      },
      "source": [
        "model.outputs"
      ],
      "execution_count": null,
      "outputs": [
        {
          "output_type": "execute_result",
          "data": {
            "text/plain": [
              "[<KerasTensor: shape=(None, 512, 512, 20) dtype=float32 (created by layer 'conv2d_9')>]"
            ]
          },
          "metadata": {},
          "execution_count": 14
        }
      ]
    },
    {
      "cell_type": "code",
      "metadata": {
        "id": "-ZYfeW_Pno1z"
      },
      "source": [
        ""
      ],
      "execution_count": null,
      "outputs": []
    }
  ]
}